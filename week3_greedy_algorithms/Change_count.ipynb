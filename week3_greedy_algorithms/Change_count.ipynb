{
 "cells": [
  {
   "cell_type": "code",
   "execution_count": 1,
   "metadata": {},
   "outputs": [
    {
     "name": "stdout",
     "output_type": "stream",
     "text": [
      "37\n",
      "6\n"
     ]
    }
   ],
   "source": [
    "# Uses python3\n",
    "import sys\n",
    "import numpy as np\n",
    "\n",
    "def get_change(m):\n",
    "    ## Get the number of 100's\n",
    "    hundreds = float(np.floor(m/100))\n",
    "##    print(\"after hundreds\", m - 100*hundreds)\n",
    "    ## get the number of 50'2\n",
    "    fiftys = float(np.floor((m - int(100*hundreds))/50))\n",
    "##    print(\"after fifties\", m - (100*hundreds) - (50*fiftys))\n",
    "    ## Get the number of 20's\n",
    "    reduced_1 = m - (hundreds*100) - (50*fiftys)\n",
    "    twenties = float(np.floor(reduced_1/20))\n",
    "##    print(\"after 20's\", reduced_1 - 20*twenties)\n",
    "    ## Get the number of 10's\n",
    "    tens = float(np.floor((reduced_1 - (20*twenties))/10))\n",
    "##    print(\"after 10's\", reduced_1 - (20*twenties) - (10*tens))\n",
    "    ## Get the number of 5's\n",
    "    reduced_2 = reduced_1 - (20*twenties) - (tens*10)\n",
    "    fives = np.floor(reduced_2/5)\n",
    "##   print(\"after 5's\", reduced_2 - (5*fives))\n",
    "    ##Get the number os 2's\n",
    "    twos = np.floor((reduced_2 - (5*fives))/2)\n",
    "    ## Get the number of 1's\n",
    "##    print(\"after 2's\", reduced_2 - (5*fives) - (2 * twos))\n",
    "    ones = np.floor(reduced_2 - (5*fives) - (2*twos))\n",
    "    ## Get the number of 50 cent\n",
    "##   coins = 100*(reduced_2 - np.floor(reduced_2))\n",
    "##    print(\"change\", coins)\n",
    "    if m <= 0:\n",
    "        m = 0\n",
    "    coins = m\n",
    "    if m != 50:\n",
    "        fif_coins = 0\n",
    "    else:\n",
    "        fif_coins = 0\n",
    "##    print(\"after fifty cent pieces\", coins - (50*fif_coins))\n",
    "    ## Get the number of quarters\n",
    "    if m != 25:\n",
    "        quarters = 0\n",
    "    else:\n",
    "        quarters = 0\n",
    "##    print(\"after quarters\", (coins - (50*fif_coins) - (25*quarters)))\n",
    "    \n",
    "    ## get the number of dimes\n",
    "    if m != 10:\n",
    "        dimes = np.floor((coins - (50 * fif_coins) - (25 * quarters))/10)\n",
    "    else:\n",
    "        dimes = 0\n",
    "    left = coins - (50 * fif_coins) - (25 * quarters) - (10*dimes)\n",
    "    ## get the number of nickels\n",
    "    if m != 5:\n",
    "        nickels = np.floor(left/5)\n",
    "    else:\n",
    "        nickels = 0\n",
    "    ## get the number of pennies\n",
    "    pennies = np.rint(left - (5*nickels))\n",
    "    changed = [ int(fif_coins), int(quarters), int(dimes), int(nickels)\n",
    "    , int(pennies)]\n",
    "    change = sum(changed)\n",
    "    return change\n",
    "\n",
    "m = int(input())\n",
    "print(get_change(m))"
   ]
  },
  {
   "cell_type": "code",
   "execution_count": null,
   "metadata": {},
   "outputs": [],
   "source": []
  }
 ],
 "metadata": {
  "kernelspec": {
   "display_name": "Python 3",
   "language": "python",
   "name": "python3"
  },
  "language_info": {
   "codemirror_mode": {
    "name": "ipython",
    "version": 3
   },
   "file_extension": ".py",
   "mimetype": "text/x-python",
   "name": "python",
   "nbconvert_exporter": "python",
   "pygments_lexer": "ipython3",
   "version": "3.7.4"
  }
 },
 "nbformat": 4,
 "nbformat_minor": 2
}
